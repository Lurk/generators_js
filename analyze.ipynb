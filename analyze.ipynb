{
 "cells": [
  {
   "cell_type": "code",
   "execution_count": 1,
   "id": "0295b276-0e77-4e3b-97d8-24f59ee76a40",
   "metadata": {},
   "outputs": [],
   "source": [
    "import numpy as np\n",
    "import pandas as pd\n",
    "import matplotlib.pyplot as plt\n",
    "import json\n",
    "from IPython.display import display, HTML\n",
    "\n",
    "%matplotlib inline"
   ]
  },
  {
   "cell_type": "code",
   "execution_count": 2,
   "id": "93e51140-9580-4cf7-a1fe-b266f1399b55",
   "metadata": {},
   "outputs": [],
   "source": [
    "with open(\"./result.json\") as datafile:\n",
    "  data = json.load(datafile)\n",
    "\n",
    "dataframe = pd.DataFrame(data).sort_values(\"size\")"
   ]
  },
  {
   "cell_type": "code",
   "execution_count": 3,
   "id": "f9bfab88-e4f3-4968-8561-e807d45857b7",
   "metadata": {},
   "outputs": [
    {
     "data": {
      "text/html": [
       "<div>\n",
       "<style scoped>\n",
       "    .dataframe tbody tr th:only-of-type {\n",
       "        vertical-align: middle;\n",
       "    }\n",
       "\n",
       "    .dataframe tbody tr th {\n",
       "        vertical-align: top;\n",
       "    }\n",
       "\n",
       "    .dataframe thead th {\n",
       "        text-align: right;\n",
       "    }\n",
       "</style>\n",
       "<table border=\"1\" class=\"dataframe\">\n",
       "  <thead>\n",
       "    <tr style=\"text-align: right;\">\n",
       "      <th></th>\n",
       "      <th>name</th>\n",
       "      <th>ops</th>\n",
       "      <th>margin</th>\n",
       "      <th>percentSlower</th>\n",
       "      <th>size</th>\n",
       "    </tr>\n",
       "  </thead>\n",
       "  <tbody>\n",
       "    <tr>\n",
       "      <th>0</th>\n",
       "      <td>array methods</td>\n",
       "      <td>6024.0</td>\n",
       "      <td>16.79</td>\n",
       "      <td>12.03</td>\n",
       "      <td>100</td>\n",
       "    </tr>\n",
       "    <tr>\n",
       "      <th>1</th>\n",
       "      <td>for loop</td>\n",
       "      <td>6848.0</td>\n",
       "      <td>13.25</td>\n",
       "      <td>0.00</td>\n",
       "      <td>100</td>\n",
       "    </tr>\n",
       "    <tr>\n",
       "      <th>2</th>\n",
       "      <td>generators</td>\n",
       "      <td>5227.0</td>\n",
       "      <td>14.83</td>\n",
       "      <td>23.67</td>\n",
       "      <td>100</td>\n",
       "    </tr>\n",
       "    <tr>\n",
       "      <th>3</th>\n",
       "      <td>iterators</td>\n",
       "      <td>5887.0</td>\n",
       "      <td>13.42</td>\n",
       "      <td>14.03</td>\n",
       "      <td>100</td>\n",
       "    </tr>\n",
       "    <tr>\n",
       "      <th>444</th>\n",
       "      <td>array methods</td>\n",
       "      <td>3080.0</td>\n",
       "      <td>15.57</td>\n",
       "      <td>5.23</td>\n",
       "      <td>200</td>\n",
       "    </tr>\n",
       "    <tr>\n",
       "      <th>...</th>\n",
       "      <td>...</td>\n",
       "      <td>...</td>\n",
       "      <td>...</td>\n",
       "      <td>...</td>\n",
       "      <td>...</td>\n",
       "    </tr>\n",
       "    <tr>\n",
       "      <th>3231</th>\n",
       "      <td>iterators</td>\n",
       "      <td>5.5</td>\n",
       "      <td>17.02</td>\n",
       "      <td>9.69</td>\n",
       "      <td>82600</td>\n",
       "    </tr>\n",
       "    <tr>\n",
       "      <th>3232</th>\n",
       "      <td>array methods</td>\n",
       "      <td>7.0</td>\n",
       "      <td>12.96</td>\n",
       "      <td>0.00</td>\n",
       "      <td>82700</td>\n",
       "    </tr>\n",
       "    <tr>\n",
       "      <th>3233</th>\n",
       "      <td>for loop</td>\n",
       "      <td>6.1</td>\n",
       "      <td>14.96</td>\n",
       "      <td>12.86</td>\n",
       "      <td>82700</td>\n",
       "    </tr>\n",
       "    <tr>\n",
       "      <th>3234</th>\n",
       "      <td>generators</td>\n",
       "      <td>5.0</td>\n",
       "      <td>19.62</td>\n",
       "      <td>28.57</td>\n",
       "      <td>82700</td>\n",
       "    </tr>\n",
       "    <tr>\n",
       "      <th>3235</th>\n",
       "      <td>iterators</td>\n",
       "      <td>4.9</td>\n",
       "      <td>20.49</td>\n",
       "      <td>30.00</td>\n",
       "      <td>82700</td>\n",
       "    </tr>\n",
       "  </tbody>\n",
       "</table>\n",
       "<p>3308 rows × 5 columns</p>\n",
       "</div>"
      ],
      "text/plain": [
       "               name     ops  margin  percentSlower   size\n",
       "0     array methods  6024.0   16.79          12.03    100\n",
       "1          for loop  6848.0   13.25           0.00    100\n",
       "2        generators  5227.0   14.83          23.67    100\n",
       "3         iterators  5887.0   13.42          14.03    100\n",
       "444   array methods  3080.0   15.57           5.23    200\n",
       "...             ...     ...     ...            ...    ...\n",
       "3231      iterators     5.5   17.02           9.69  82600\n",
       "3232  array methods     7.0   12.96           0.00  82700\n",
       "3233       for loop     6.1   14.96          12.86  82700\n",
       "3234     generators     5.0   19.62          28.57  82700\n",
       "3235      iterators     4.9   20.49          30.00  82700\n",
       "\n",
       "[3308 rows x 5 columns]"
      ]
     },
     "metadata": {},
     "output_type": "display_data"
    }
   ],
   "source": [
    "display(dataframe)"
   ]
  },
  {
   "cell_type": "code",
   "execution_count": 4,
   "id": "2aea5008-84fe-413a-af20-ca4a90383f70",
   "metadata": {},
   "outputs": [
    {
     "data": {
      "image/png": "[encoded data removed]",
      "text/plain": [
       "<Figure size 640x480 with 1 Axes>"
      ]
     },
     "metadata": {},
     "output_type": "display_data"
    }
   ],
   "source": [
    "groups = dataframe.groupby(\"name\")\n",
    "ax = plt.gca()\n",
    "\n",
    "groups.get_group(\"array methods\").plot(kind='line',x='size',y='ops' ,ax=ax)\n",
    "groups.get_group(\"for loop\").plot(kind='line',x='size',y='ops',ax=ax)\n",
    "groups.get_group(\"generators\").plot(kind='line',x='size',y='ops',ax=ax)\n",
    "groups.get_group(\"iterators\").plot(kind='line',x='size',y='ops',ax=ax)\n",
    "\n",
    "current_handles, _ = ax.get_legend_handles_labels()\n",
    "reversed_handles = reversed(current_handles)\n",
    "labels = reversed(dataframe['name'].unique())\n",
    "plt.legend(reversed_handles,labels)\n",
    "plt.show()"
   ]
  },
  {
   "cell_type": "code",
   "execution_count": null,
   "id": "15df179b-4909-4c2e-af03-0fb0f0b02509",
   "metadata": {},
   "outputs": [],
   "source": []
  }
 ],
 "metadata": {
  "kernelspec": {
   "display_name": "Python 3 (ipykernel)",
   "language": "python",
   "name": "python3"
  },
  "language_info": {
   "codemirror_mode": {
    "name": "ipython",
    "version": 3
   },
   "file_extension": ".py",
   "mimetype": "text/x-python",
   "name": "python",
   "nbconvert_exporter": "python",
   "pygments_lexer": "ipython3",
   "version": "3.8.1"
  }
 },
 "nbformat": 4,
 "nbformat_minor": 5
}
